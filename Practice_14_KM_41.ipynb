{
 "cells": [
  {
   "cell_type": "markdown",
   "metadata": {
    "id": "FMqboNwO4rVs"
   },
   "source": [
    "# **Курс \"Програмування на мові Python\"**"
   ]
  },
  {
   "cell_type": "markdown",
   "metadata": {
    "id": "A2T6MigL5Z06"
   },
   "source": [
    "## **Практичне зайняття №16**\n",
    "\n",
    "### Тема: \"Декоратори\""
   ]
  },
  {
   "cell_type": "markdown",
   "metadata": {},
   "source": [
    "### **Завдання 1 (3 бали)**\n",
    "\n",
    "Реалізуйте підрахунок площі трикутника з використанням декоратора, який перевірятиме можливість побудови трикутника з трьох введених користувачем сторін.\n",
    "\n",
    "1. Напишіть функцію area_calculation, яка підраховуватиме площу трикутника за трьома сторонами. Для підрахунку можете скористатись формулою Герона.\n",
    "\n",
    "2. Напишіть функцію check, яка перевірятиме правильність введених користувачем значень (значення мають бути додатними числами, не обов'язково цілими).\n",
    "\n",
    "3. Створіть декоратор triangle_ineq, який перевірятиме виконання нерівності трикутрика для трьох заданих користувачем сторін. Навісьте декоратор triangle_ineq на функція area_calculation та перевірте правильність роботи програми."
   ]
  },
  {
   "cell_type": "code",
   "execution_count": 2,
   "metadata": {},
   "outputs": [
    {
     "name": "stdout",
     "output_type": "stream",
     "text": [
      "Площа трикутника: 367.42346\n"
     ]
    }
   ],
   "source": [
    "import math \n",
    "def triangle_ineq(func):\n",
    "    def sum_sides(a, b, c):\n",
    "        if a + b > c and a + c > b and b + c > a:\n",
    "            return func(a, b, c)\n",
    "        else:\n",
    "            raise ValueError('Трикутника з такими сторонами не існує')\n",
    "    return sum_sides\n",
    "@triangle_ineq\n",
    "def area_calculation(a, b, c):\n",
    "    p = (a + b + c) / 2\n",
    "    square = math.sqrt(p * (p - a) * (p - b) * (p - c))\n",
    "    return square\n",
    "def check(value, side_name):\n",
    "    while True:\n",
    "        try:\n",
    "            value = float(value)\n",
    "            if value > 0:\n",
    "                return value\n",
    "            else:\n",
    "                print(f'Значення {side_name} має бути додатнім числом')\n",
    "        except ValueError:\n",
    "            print(f'Значення {side_name} має бути числом')\n",
    "        value = input(f'Введіть значення {side_name} ще раз: ')\n",
    "a = input('Введіть значення першої сторони: ')\n",
    "a = check(a, 'першої сторони')\n",
    "b = input('Введіть значення другої сторони: ')\n",
    "b= check(b, 'другої сторони')\n",
    "c = input('Введіть значення третьої сторони: ')\n",
    "c = check(c, 'третьої сторони')\n",
    "try:\n",
    "    area = area_calculation(a, b, c)\n",
    "    print(f'Площа трикутника: {area:.5f}')\n",
    "except ValueError as e:\n",
    "    print(f'{e}')\n"
   ]
  }
 ],
 "metadata": {
  "colab": {
   "collapsed_sections": [],
   "name": "Practice_10-11_KM_01_.ipynb",
   "provenance": []
  },
  "kernelspec": {
   "display_name": "Python 3",
   "name": "python3"
  },
  "language_info": {
   "codemirror_mode": {
    "name": "ipython",
    "version": 3
   },
   "file_extension": ".py",
   "mimetype": "text/x-python",
   "name": "python",
   "nbconvert_exporter": "python",
   "pygments_lexer": "ipython3",
   "version": "3.12.6"
  }
 },
 "nbformat": 4,
 "nbformat_minor": 0
}
