{
 "cells": [
  {
   "cell_type": "markdown",
   "metadata": {
    "id": "FMqboNwO4rVs"
   },
   "source": [
    "# **Курс \"Програмування на мові Python\"**"
   ]
  },
  {
   "cell_type": "markdown",
   "metadata": {
    "id": "A2T6MigL5Z06"
   },
   "source": [
    "## **Практичне зайняття №10**\n",
    "\n",
    "### Тема: \"Лямбда-функції. Функції вищих порядків\""
   ]
  },
  {
   "cell_type": "markdown",
   "metadata": {
    "id": "cfCdgK2zXm7e"
   },
   "source": [
    "### **Завдання 1 (1 бал)**\n",
    "\n",
    "Керівництво будівельної компанії вирішило підняти заробітні плати всім своїм працівникам на 30%. В залежності від спеціалізації та стажу працівники мають різну заробітну плату. Для підготовки звіту необхідно розрахувати нову заробітну плату для працівників компанії, а також суму індексації.\n",
    "\n",
    "Написати програму, яка буде генерувати таблицю для цього звіту. Початкова заробітна плата працівників подана у списку salary_list (у тисячах гривень). \n",
    "\n",
    "1. Для підрахунку невідомих значень повинні використовуватись вбудовані функції вищих порядків.\n",
    "\n",
    "2. Зарплата після індексації та сума індексації для працівників різних категорій повинні зберігатись у двох окремих списках. Порядок значень у кожному з нових списків повинен відповідати порядку значень у списку salary_list.\n",
    "\n",
    "3. Кожне підраховане числове значення має бути округлене до сотих.\n",
    "\n",
    "4. Дані повинні виводитись у вигляді:\n",
    "\n",
    "**Salary table:**\n",
    "\n",
    "**6.4 8.32 1.92**\n",
    "\n",
    "**9.35 12.16 2.81**\n",
    "\n",
    "**...**\n",
    "\n",
    "salary_list = [6.4, 9.35, 11.4, 14, 23.8, 28.15, 34.7]"
   ]
  },
  {
   "cell_type": "code",
   "execution_count": 29,
   "metadata": {
    "id": "ifNX2M7LXm7f"
   },
   "outputs": [
    {
     "name": "stdout",
     "output_type": "stream",
     "text": [
      "Salary table:\n",
      "6.4    8.32   1.92  \n",
      "9.35   12.15  2.8   \n",
      "11.4   14.82  3.42  \n",
      "14     18.2   4.2   \n",
      "23.8   30.94  7.14  \n",
      "28.15  36.59  8.44  \n",
      "34.7   45.11  10.41 \n"
     ]
    }
   ],
   "source": [
    "salary_list = [6.4, 9.35, 11.4, 14, 23.8, 28.15, 34.7]\n",
    "new_salary = []\n",
    "sum_index = []\n",
    "print('Salary table:')\n",
    "def sum(elem):\n",
    "    elem = round(elem * 0.3, 2)\n",
    "    return elem\n",
    "def new(elem):\n",
    "    elem = round(elem + sum(elem), 2)\n",
    "    return elem\n",
    "for elem in salary_list:\n",
    "    new_salary.append(new(elem))\n",
    "    sum_index.append(sum(elem))\n",
    "for i in range(len(salary_list)):\n",
    "    print(f'{salary_list[i]:<6} {new_salary[i]:<6} {sum_index[i]:<6}')"
   ]
  },
  {
   "cell_type": "markdown",
   "metadata": {},
   "source": [
    "### **Завдання 2 (2 бали)**\n",
    "\n",
    "Зазвичай рік має 365 днів. Однак у високосні роки додається ще один день - 29 лютого. Правила визначення високосного року такі:\n",
    "\n",
    "- Будь-який рік, що ділиться на 400 - високосний.\n",
    "\n",
    "- З тих років, що залишились, будь-який рік, що ділиться на 100 - **не** високосний.\n",
    "\n",
    "- З тих років, що залишились, будь-який рік, що ділиться на 4 - високосний.\n",
    "\n",
    "- Усі інші роки, що залишились - **не** високосні.\n",
    "\n",
    "1) Створіть функцію, в якій за допомогою вбудованих функцій вищих порядків будуть визначатися високосні роки серед перелічених років у списку years. Створена функція має повертати список високосних років.\n",
    "\n",
    "2) Створіть функцію вищих порядків, яка прийматиме на вхід попередню функцію та визначатиме кількість днів у місяці. Також функція повинна приймати на вхід ще 2 параметри: ціле число від 1 до 12 (місяць) та рік, як ціле чотирицифрове число. Ці значення корисувач має вводити з клавіатури. Перевірку введених даних слід виконувати поза межами функцій."
   ]
  },
  {
   "cell_type": "code",
   "execution_count": 33,
   "metadata": {},
   "outputs": [
    {
     "name": "stdout",
     "output_type": "stream",
     "text": [
      "Високосні роки: [1904, 1908, 1912, 1916, 1920, 1924, 1928, 1932, 1936, 1940, 1944, 1948, 1952, 1956, 1960, 1964, 1968, 1972, 1976, 1980, 1984, 1988, 1992, 1996, 2000, 2004, 2008, 2012, 2016, 2020]\n",
      "Місяць повинен бути числом\n",
      "Місяць повинен бути числом\n"
     ]
    },
    {
     "ename": "KeyboardInterrupt",
     "evalue": "Interrupted by user",
     "output_type": "error",
     "traceback": [
      "\u001b[1;31m---------------------------------------------------------------------------\u001b[0m",
      "\u001b[1;31mKeyboardInterrupt\u001b[0m                         Traceback (most recent call last)",
      "Cell \u001b[1;32mIn[33], line 16\u001b[0m\n\u001b[0;32m     14\u001b[0m \u001b[38;5;28mprint\u001b[39m(\u001b[38;5;124m'\u001b[39m\u001b[38;5;124mВисокосні роки:\u001b[39m\u001b[38;5;124m'\u001b[39m, leap(years))\n\u001b[0;32m     15\u001b[0m \u001b[38;5;28;01mwhile\u001b[39;00m \u001b[38;5;28;01mTrue\u001b[39;00m:\n\u001b[1;32m---> 16\u001b[0m     month \u001b[38;5;241m=\u001b[39m \u001b[38;5;28;43minput\u001b[39;49m\u001b[43m(\u001b[49m\u001b[38;5;124;43m'\u001b[39;49m\u001b[38;5;124;43mВведіть місяць(число): \u001b[39;49m\u001b[38;5;124;43m'\u001b[39;49m\u001b[43m)\u001b[49m\n\u001b[0;32m     17\u001b[0m     \u001b[38;5;28;01mtry\u001b[39;00m:\n\u001b[0;32m     18\u001b[0m         month \u001b[38;5;241m=\u001b[39m \u001b[38;5;28mint\u001b[39m(month)\n",
      "File \u001b[1;32m~\\AppData\\Roaming\\Python\\Python312\\site-packages\\ipykernel\\kernelbase.py:1282\u001b[0m, in \u001b[0;36mKernel.raw_input\u001b[1;34m(self, prompt)\u001b[0m\n\u001b[0;32m   1280\u001b[0m     msg \u001b[38;5;241m=\u001b[39m \u001b[38;5;124m\"\u001b[39m\u001b[38;5;124mraw_input was called, but this frontend does not support input requests.\u001b[39m\u001b[38;5;124m\"\u001b[39m\n\u001b[0;32m   1281\u001b[0m     \u001b[38;5;28;01mraise\u001b[39;00m StdinNotImplementedError(msg)\n\u001b[1;32m-> 1282\u001b[0m \u001b[38;5;28;01mreturn\u001b[39;00m \u001b[38;5;28;43mself\u001b[39;49m\u001b[38;5;241;43m.\u001b[39;49m\u001b[43m_input_request\u001b[49m\u001b[43m(\u001b[49m\n\u001b[0;32m   1283\u001b[0m \u001b[43m    \u001b[49m\u001b[38;5;28;43mstr\u001b[39;49m\u001b[43m(\u001b[49m\u001b[43mprompt\u001b[49m\u001b[43m)\u001b[49m\u001b[43m,\u001b[49m\n\u001b[0;32m   1284\u001b[0m \u001b[43m    \u001b[49m\u001b[38;5;28;43mself\u001b[39;49m\u001b[38;5;241;43m.\u001b[39;49m\u001b[43m_parent_ident\u001b[49m\u001b[43m[\u001b[49m\u001b[38;5;124;43m\"\u001b[39;49m\u001b[38;5;124;43mshell\u001b[39;49m\u001b[38;5;124;43m\"\u001b[39;49m\u001b[43m]\u001b[49m\u001b[43m,\u001b[49m\n\u001b[0;32m   1285\u001b[0m \u001b[43m    \u001b[49m\u001b[38;5;28;43mself\u001b[39;49m\u001b[38;5;241;43m.\u001b[39;49m\u001b[43mget_parent\u001b[49m\u001b[43m(\u001b[49m\u001b[38;5;124;43m\"\u001b[39;49m\u001b[38;5;124;43mshell\u001b[39;49m\u001b[38;5;124;43m\"\u001b[39;49m\u001b[43m)\u001b[49m\u001b[43m,\u001b[49m\n\u001b[0;32m   1286\u001b[0m \u001b[43m    \u001b[49m\u001b[43mpassword\u001b[49m\u001b[38;5;241;43m=\u001b[39;49m\u001b[38;5;28;43;01mFalse\u001b[39;49;00m\u001b[43m,\u001b[49m\n\u001b[0;32m   1287\u001b[0m \u001b[43m\u001b[49m\u001b[43m)\u001b[49m\n",
      "File \u001b[1;32m~\\AppData\\Roaming\\Python\\Python312\\site-packages\\ipykernel\\kernelbase.py:1325\u001b[0m, in \u001b[0;36mKernel._input_request\u001b[1;34m(self, prompt, ident, parent, password)\u001b[0m\n\u001b[0;32m   1322\u001b[0m \u001b[38;5;28;01mexcept\u001b[39;00m \u001b[38;5;167;01mKeyboardInterrupt\u001b[39;00m:\n\u001b[0;32m   1323\u001b[0m     \u001b[38;5;66;03m# re-raise KeyboardInterrupt, to truncate traceback\u001b[39;00m\n\u001b[0;32m   1324\u001b[0m     msg \u001b[38;5;241m=\u001b[39m \u001b[38;5;124m\"\u001b[39m\u001b[38;5;124mInterrupted by user\u001b[39m\u001b[38;5;124m\"\u001b[39m\n\u001b[1;32m-> 1325\u001b[0m     \u001b[38;5;28;01mraise\u001b[39;00m \u001b[38;5;167;01mKeyboardInterrupt\u001b[39;00m(msg) \u001b[38;5;28;01mfrom\u001b[39;00m \u001b[38;5;28;01mNone\u001b[39;00m\n\u001b[0;32m   1326\u001b[0m \u001b[38;5;28;01mexcept\u001b[39;00m \u001b[38;5;167;01mException\u001b[39;00m:\n\u001b[0;32m   1327\u001b[0m     \u001b[38;5;28mself\u001b[39m\u001b[38;5;241m.\u001b[39mlog\u001b[38;5;241m.\u001b[39mwarning(\u001b[38;5;124m\"\u001b[39m\u001b[38;5;124mInvalid Message:\u001b[39m\u001b[38;5;124m\"\u001b[39m, exc_info\u001b[38;5;241m=\u001b[39m\u001b[38;5;28;01mTrue\u001b[39;00m)\n",
      "\u001b[1;31mKeyboardInterrupt\u001b[0m: Interrupted by user"
     ]
    }
   ],
   "source": [
    "import numpy as np\n",
    "\n",
    "years = np.arange(1900, 2020+1, 1)\n",
    "def leap(years):\n",
    "    def check(year):\n",
    "        if (year % 400 == 0) or (year % 100 != 0 and year % 4 == 0):\n",
    "            check_coef = 1\n",
    "        else:\n",
    "            check_coef = 0\n",
    "        return check_coef\n",
    "    leap_list = []\n",
    "    leap = list(map(lambda year: leap_list.append(int(year)) if check(year) == 1 else (), years))\n",
    "    return leap_list\n",
    "print('Високосні роки:', leap(years))\n",
    "while True:\n",
    "    month = input('Введіть місяць(число): ')\n",
    "    try:\n",
    "        month = int(month)\n",
    "    except ValueError:\n",
    "        print('Місяць повинен бути числом')"
   ]
  }
 ],
 "metadata": {
  "colab": {
   "collapsed_sections": [],
   "name": "Practice_7_KM-01_.ipynb",
   "provenance": []
  },
  "kernelspec": {
   "display_name": "Python 3",
   "name": "python3"
  },
  "language_info": {
   "codemirror_mode": {
    "name": "ipython",
    "version": 3
   },
   "file_extension": ".py",
   "mimetype": "text/x-python",
   "name": "python",
   "nbconvert_exporter": "python",
   "pygments_lexer": "ipython3",
   "version": "3.12.6"
  }
 },
 "nbformat": 4,
 "nbformat_minor": 0
}
