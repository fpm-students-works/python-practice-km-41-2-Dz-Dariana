{
 "cells": [
  {
   "cell_type": "markdown",
   "metadata": {
    "id": "FMqboNwO4rVs"
   },
   "source": [
    "# **Курс \"Програмування на мові Python\"**"
   ]
  },
  {
   "cell_type": "markdown",
   "metadata": {
    "id": "A2T6MigL5Z06"
   },
   "source": [
    "## **Практичне зайняття №12**\n",
    "\n",
    "### Тема: \"Рекурсивні структури даних\""
   ]
  },
  {
   "cell_type": "markdown",
   "metadata": {
    "id": "8bFJLl9Y4PYz"
   },
   "source": [
    "### **Завдання 1 (3 бали)**\n",
    "\n",
    "Нехай задано структуру даних, що представляє файли на диску, наступного вигляду:\n",
    "- файли представлені у вигляді рядків зі своїм іменем;\n",
    "- папки представлені у вигляді пари `(name, subnodes)`, де `name` — це ім'я папки, а `subnodes` — список з файлів і/або папок, що містяться у ній.\n",
    "\n",
    "Приклад такої структури наведено нижче у змінній `dirs`.\n",
    "\n",
    "Реалізуйте рекурсивну функцію `search(dirs, filename)` для пошуку усіх файлів із іменем `filename` у структурі `dirs`. Ця функція має повертати список, що містить повні шляхи до файлу у заданій структурі. Наприклад, `search(dirs, 'file2')` для наведеної нижче структури має повертати список `['/folder1/folder2/file2']`.\n",
    "\n",
    "_Зауваження 1_: Ви можете, за необхідності, додати до сигнатури функції додаткові параметри, за умови, що вони матимуть значення за замовчуванням. Однак, я стверджую, що таку функцію завжди можна реалізувати використовуючи лише задану кількість параметрів, незалежно від того, чи будете ви використовувати рекурсію з акумулятором чи без.\n",
    "\n",
    "_Зауваження 2_: Згадайте, що рекурсія буває не тільки безпосередньою, але й опосередкованою, коли послідовність функцій викликає одна одну: `f() -> g() -> ... -> f()`\n",
    "\n",
    "_Зауваження 3_: Пам'ятайте, що Ви завжди можете використовувати функції `map` та `reduce`. Крім того, ви можете захотіти використати інші функції з модулів `functools` та `itertools`, наприклад `itertools.chain()`. Завдання, однак, можна виконати і без них (хоч це і не дуже зручно).\n",
    "\n",
    "_Зауваження 4_: На мій смак, версія з акумулятором є більш елегантною, але дещо складнішою в реалізації. Спробуйте реалізувати обидві версії.\n",
    "\n",
    "![](https://media.giphy.com/media/enCWEo0vG25Ow/giphy.gif) "
   ]
  },
  {
   "cell_type": "code",
   "execution_count": 28,
   "metadata": {
    "id": "p4JxkFju4W0e"
   },
   "outputs": [
    {
     "name": "stdout",
     "output_type": "stream",
     "text": [
      "['/folder1/file1']\n",
      "['/folder1/folder2/file2']\n",
      "['/folder1/folder2/file3', '/folder1/folder3/file3', '/folder1/folder3/folder4/file3']\n",
      "['/folder1/folder3/file4']\n",
      "['/folder1/file5']\n",
      "[]\n",
      "[]\n"
     ]
    },
    {
     "ename": "AssertionError",
     "evalue": "Failed test for file2",
     "output_type": "error",
     "traceback": [
      "\u001b[1;31m---------------------------------------------------------------------------\u001b[0m",
      "\u001b[1;31mAssertionError\u001b[0m                            Traceback (most recent call last)",
      "Cell \u001b[1;32mIn[28], line 61\u001b[0m\n\u001b[0;32m     58\u001b[0m \u001b[38;5;28mprint\u001b[39m(search(dirs, \u001b[38;5;124m'\u001b[39m\u001b[38;5;124mfolder1\u001b[39m\u001b[38;5;124m'\u001b[39m))\n\u001b[0;32m     60\u001b[0m \u001b[38;5;28;01massert\u001b[39;00m search(dirs, \u001b[38;5;124m'\u001b[39m\u001b[38;5;124mfile1\u001b[39m\u001b[38;5;124m'\u001b[39m) \u001b[38;5;241m==\u001b[39m [\u001b[38;5;124m'\u001b[39m\u001b[38;5;124m/folder1/file1\u001b[39m\u001b[38;5;124m'\u001b[39m], \u001b[38;5;124m'\u001b[39m\u001b[38;5;124mFailed test for file1\u001b[39m\u001b[38;5;124m'\u001b[39m\n\u001b[1;32m---> 61\u001b[0m \u001b[38;5;28;01massert\u001b[39;00m search(dirs, \u001b[38;5;124m'\u001b[39m\u001b[38;5;124mfile2\u001b[39m\u001b[38;5;124m'\u001b[39m) \u001b[38;5;241m==\u001b[39m [\u001b[38;5;124m'\u001b[39m\u001b[38;5;124m/folder1//folder2/file2\u001b[39m\u001b[38;5;124m'\u001b[39m], \u001b[38;5;124m'\u001b[39m\u001b[38;5;124mFailed test for file2\u001b[39m\u001b[38;5;124m'\u001b[39m\n\u001b[0;32m     62\u001b[0m \u001b[38;5;28;01massert\u001b[39;00m search(dirs, \u001b[38;5;124m'\u001b[39m\u001b[38;5;124mfile3\u001b[39m\u001b[38;5;124m'\u001b[39m) \u001b[38;5;241m==\u001b[39m [\u001b[38;5;124m'\u001b[39m\u001b[38;5;124m/folder1//folder2/file3\u001b[39m\u001b[38;5;124m'\u001b[39m, \u001b[38;5;124m'\u001b[39m\u001b[38;5;124m/folder1//folder3/file3\u001b[39m\u001b[38;5;124m'\u001b[39m, \u001b[38;5;124m'\u001b[39m\u001b[38;5;124m/folder1//folder3//folder4/file3\u001b[39m\u001b[38;5;124m'\u001b[39m], \u001b[38;5;124m'\u001b[39m\u001b[38;5;124mFailed test for file3\u001b[39m\u001b[38;5;124m'\u001b[39m\n\u001b[0;32m     63\u001b[0m \u001b[38;5;28;01massert\u001b[39;00m search(dirs, \u001b[38;5;124m'\u001b[39m\u001b[38;5;124mfile4\u001b[39m\u001b[38;5;124m'\u001b[39m) \u001b[38;5;241m==\u001b[39m [\u001b[38;5;124m'\u001b[39m\u001b[38;5;124m/folder1//folder3/file4\u001b[39m\u001b[38;5;124m'\u001b[39m], \u001b[38;5;124m'\u001b[39m\u001b[38;5;124mFailed test for file4\u001b[39m\u001b[38;5;124m'\u001b[39m\n",
      "\u001b[1;31mAssertionError\u001b[0m: Failed test for file2"
     ]
    }
   ],
   "source": [
    "dirs = [\n",
    "    ( 'folder1',\n",
    "        [\n",
    "            'file1',\n",
    "            ( 'folder2', \n",
    "                [\n",
    "                    'file2',\n",
    "                    'file3'\n",
    "                ] \n",
    "            ),\n",
    "            ( 'folder3', \n",
    "                [\n",
    "                    'file3', \n",
    "                    'file4',\n",
    "                    ('folder4', ['file3'])\n",
    "                ] \n",
    "            ),\n",
    "            'file5'\n",
    "        ]\n",
    "    )\n",
    "]\n",
    "\n",
    "# ВАШ КОД ТУТ\n",
    "def search_nodes(nodes, filename, path=''):\n",
    "    results = []\n",
    "    for node in nodes:\n",
    "        if isinstance(node, str):  # Якщо це файл\n",
    "            results.extend(search_file(node, filename, path))\n",
    "        elif isinstance(node, tuple):  # Якщо це папка\n",
    "            results.extend(search_folder(node, filename, path))\n",
    "    return results\n",
    "\n",
    "def search_file(file, filename, path):\n",
    "    # Якщо файл відповідає імені, додаємо його до результатів\n",
    "    if file == filename:\n",
    "        return [f\"{path}/{file}\".replace('//', '/')]\n",
    "    return []\n",
    "\n",
    "def search_folder(folder, filename, path):\n",
    "    name, subnodes = folder\n",
    "    # Формуємо коректний шлях до папки\n",
    "    new_path = f\"{path}/{name}\".replace('//', '/')\n",
    "    # Переходимо до обробки вмісту папки\n",
    "    return search_nodes(subnodes, filename, new_path)\n",
    "\n",
    "# Виклик функції\n",
    "def search(dirs, filename):\n",
    "    return search_nodes(dirs, filename)\n",
    "\n",
    "# ПЕРЕВІРКА\n",
    "\n",
    "print(search(dirs, 'file1'))\n",
    "print(search(dirs, 'file2'))\n",
    "print(search(dirs, 'file3'))\n",
    "print(search(dirs, 'file4'))\n",
    "print(search(dirs, 'file5'))\n",
    "print(search(dirs, 'file6'))\n",
    "print(search(dirs, 'folder1'))\n",
    "\n",
    "assert search(dirs, 'file1') == ['/folder1/file1'], 'Failed test for file1'\n",
    "assert search(dirs, 'file2') == ['/folder1//folder2/file2'], 'Failed test for file2'\n",
    "assert search(dirs, 'file3') == ['/folder1//folder2/file3', '/folder1//folder3/file3', '/folder1//folder3//folder4/file3'], 'Failed test for file3'\n",
    "assert search(dirs, 'file4') == ['/folder1//folder3/file4'], 'Failed test for file4'\n",
    "assert search(dirs, 'file5') == ['/folder1/file5'], 'Failed test for file5'\n",
    "assert search(dirs, 'file6') == [], 'Failed test for file6'\n",
    "assert search(dirs, 'folder1') == [], 'Failed test for folder1'\n",
    "print('All tests good!')"
   ]
  }
 ],
 "metadata": {
  "colab": {
   "collapsed_sections": [],
   "name": "Practice_12_13_KM_01_.ipynb",
   "provenance": []
  },
  "kernelspec": {
   "display_name": "Python 3",
   "name": "python3"
  },
  "language_info": {
   "codemirror_mode": {
    "name": "ipython",
    "version": 3
   },
   "file_extension": ".py",
   "mimetype": "text/x-python",
   "name": "python",
   "nbconvert_exporter": "python",
   "pygments_lexer": "ipython3",
   "version": "3.12.6"
  }
 },
 "nbformat": 4,
 "nbformat_minor": 0
}
