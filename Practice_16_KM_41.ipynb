{
  "cells": [
    {
      "cell_type": "markdown",
      "metadata": {
        "id": "FMqboNwO4rVs"
      },
      "source": [
        "# **Курс \"Програмування на мові Python\"**"
      ]
    },
    {
      "cell_type": "markdown",
      "metadata": {
        "id": "A2T6MigL5Z06"
      },
      "source": [
        "## **Практичне зайняття №14**\n",
        "\n",
        "### Тема: \"Робота зі спеціальними форматами файлів\""
      ]
    },
    {
      "cell_type": "markdown",
      "metadata": {
        "id": "A34oz70eU463"
      },
      "source": [
        "### **Завдання 1 (1,5 бали)**\n",
        "\n",
        "Створіть CSV-файл, що буде містити від 5 до 10 пісень (творів) вашого улюбленого музиканта. Назва файлу - ім'я музиканта (композитора) або назва гурту.\n",
        "\n",
        "1. Обов'язково додайте до файлу рядок з назвами двох колонок (Song, Year) або (Composition, Year).\n",
        "\n",
        "2. Після запису файлу роздрукуйте назву файлу та усі наявні у файлі рядки (включно із заголовками).\n",
        "\n",
        "3. Для запису та зчитування рядків скористайтесь функціями csv.DictWriter() та csv.DictReader()."
      ]
    },
    {
      "cell_type": "code",
      "execution_count": 6,
      "metadata": {
        "id": "MEJIrG1GU463"
      },
      "outputs": [
        {
          "name": "stdout",
          "output_type": "stream",
          "text": [
            "File name: Imagine_Dragons.csv\n",
            "{'Song': 'Bones', 'Year': '2022'}\n",
            "{'Song': 'Believer', 'Year': '2017'}\n",
            "{'Song': 'Enemy', 'Year': '2021'}\n",
            "{'Song': 'Thunder', 'Year': '2017'}\n",
            "{'Song': 'Radioactive', 'Year': '2012'}\n"
          ]
        }
      ],
      "source": [
        "import csv\n",
        "\n",
        "with open('Imagine_Dragons.csv', 'w', newline='', encoding='utf8') as file:\n",
        "    fieldnames = ['Song', 'Year']\n",
        "    writer = csv.DictWriter(file, fieldnames=fieldnames)\n",
        "    writer.writeheader()\n",
        "    writer.writerow({'Song': 'Bones', \n",
        "                     'Year': 2022})\n",
        "    writer.writerow({'Song': 'Believer', \n",
        "                     'Year': 2017})\n",
        "    writer.writerow({'Song': 'Enemy', \n",
        "                     'Year': 2021})\n",
        "    writer.writerow({'Song': 'Thunder', \n",
        "                     'Year': 2017})\n",
        "    writer.writerow({'Song': 'Radioactive', \n",
        "                     'Year': 2012})\n",
        "with open('Imagine_Dragons.csv', 'r', encoding='utf8') as file:\n",
        "    reader = csv.DictReader(file)\n",
        "    print(f\"File name: {'Imagine_Dragons.csv'}\")\n",
        "    for row in reader:\n",
        "        print(row)"
      ]
    },
    {
      "cell_type": "markdown",
      "metadata": {
        "id": "Jb-eSBsWU464"
      },
      "source": [
        "### **Завдання 2 (1,5 бали)**\n",
        "\n",
        "COCO Dataset - набір фотографій та анотацій до них. Його дуже часто використовують для тренування класифікаторів, призначених для розпізнавання об'єктів та визначення ключових точок на зображеннях.\n",
        "\n",
        "Завантажте файли з описом фотографій COCO Dataset за посиланням: [COCO Dataset](http://images.cocodataset.org/annotations/image_info_test2017.zip).\n",
        "\n",
        "Відкрийте файл image_info_test-dev2017.json. Інформація про фотографії з бази COCO міститься у полі \"images\". Інформація про категорії, на які розділені всі фотографії, міститься у полі \"categories\".\n",
        "\n",
        "1. Визначте кількість фотографій, інформацію про які можна знайти у цьому файлі (кількість елементів, що відповідають ключу \"images\").\n",
        "\n",
        "2. Визначте кількість наявних категорій (кількість елементів, що відповідають ключу \"categories\").\n",
        "\n",
        "3. Виведіть посилання на фотографію 000000000001.jpg (\"coco_url\"). Також виведіть висоту цієї фотографії (\"height\"), ширину (\"width\") та її ідентифікатор (\"id\").\n",
        "\n",
        "4. Виведіть назву фотографії з набільшим номером.\n",
        "\n",
        "Опис структури JSON-файлу для набору фотографій COCO можна знайти за посиланням: [Data format](https://cocodataset.org/#format-data).\n",
        "\n",
        "Щоб перевірити правильність результатів, у VS Code встановіть розширення JSON та відкрийте файл image_info_test-dev2017.json. Розширення автоматично визначає кількість елементів у кожному полі."
      ]
    },
    {
      "cell_type": "code",
      "execution_count": 11,
      "metadata": {},
      "outputs": [
        {
          "name": "stdout",
          "output_type": "stream",
          "text": [
            "Кількість фотографій: 20288\n",
            "Кількість категорій: 80\n",
            "Посилання на фотографію: http://images.cocodataset.org/test2017/000000000001.jpg\n",
            "Висота фотографії: 480\n",
            "Ширина фотографії: 640\n",
            "Ідентифікатор фотографії: 1\n",
            "Фотографія з найбільшим розміром: 000000581918.jpg\n"
          ]
        }
      ],
      "source": [
        "import json\n",
        "with open('image_info_test-dev2017.json', 'r', encoding='utf8') as file:\n",
        "    data = json.load(file)\n",
        "num_images = len(data['images'])\n",
        "num_categories = len(data['categories'])\n",
        "photo_information = next(img for img in data['images'] if img['file_name'] == \"000000000001.jpg\")\n",
        "largest_photo = max(data['images'], key=lambda x: int(x['file_name'].split('.')[0]))\n",
        "print(f'Кількість фотографій: {num_images}')\n",
        "print(f'Кількість категорій: {num_categories}')\n",
        "print(f'Посилання на фотографію: {photo_information['coco_url']}')\n",
        "print(f'Висота фотографії: {photo_information['height']}')\n",
        "print(f'Ширина фотографії: {photo_information['width']}')\n",
        "print(f'Ідентифікатор фотографії: {photo_information['id']}')\n",
        "print(f'Фотографія з найбільшим розміром: {largest_photo['file_name']}')"
      ]
    }
  ],
  "metadata": {
    "colab": {
      "collapsed_sections": [],
      "name": "Practice_14_KM_01.ipynb",
      "provenance": []
    },
    "kernelspec": {
      "display_name": "Python 3",
      "name": "python3"
    },
    "language_info": {
      "codemirror_mode": {
        "name": "ipython",
        "version": 3
      },
      "file_extension": ".py",
      "mimetype": "text/x-python",
      "name": "python",
      "nbconvert_exporter": "python",
      "pygments_lexer": "ipython3",
      "version": "3.12.6"
    }
  },
  "nbformat": 4,
  "nbformat_minor": 0
}
