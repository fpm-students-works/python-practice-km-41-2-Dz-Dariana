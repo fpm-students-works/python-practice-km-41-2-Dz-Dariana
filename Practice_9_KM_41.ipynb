{
  "cells": [
    {
      "cell_type": "markdown",
      "metadata": {
        "id": "FMqboNwO4rVs"
      },
      "source": [
        "# **Курс \"Програмування на мові Python\"**"
      ]
    },
    {
      "cell_type": "markdown",
      "metadata": {
        "id": "A2T6MigL5Z06"
      },
      "source": [
        "## **Практичне зайняття №9**\n",
        "\n",
        "### Тема: \"Робота з функціями. Локальні та глобальні змінні\""
      ]
    },
    {
      "cell_type": "markdown",
      "metadata": {
        "id": "cfCdgK2zXm7e"
      },
      "source": [
        "### **Завдання 1 (3 бали)**\n",
        "\n",
        "**Підрахувати визначник матриці, використовуючи правило перестановок.**\n",
        "\n",
        "Функція random_matrix() призначена для створення квадратної матриці випадкових чисел. Її змінювати непотрібно.\n",
        "\n",
        "Приклад використання методу permutations() для створення списку перестановок також подається у комірці з кодом.\n",
        "\n",
        "1) Створити 3 функції: функцію створення списку перестановок, функцію підрахунку добутків та функцію підрахунку загальної суми.\n",
        "\n",
        "2) Кожна функція має супроводжуватись рядком документації, що буде коротко описувати її призначення.\n",
        "\n",
        "3) Розмірність квадратної матриці має вводитись користувачем з клавіатури. Підрахунки виконувати лише в тому разі, якщо користувач введе ціле додатне число.\n",
        "\n",
        "4) Загальний результат повинен підраховуватись за допомогою композиції функцій.\n",
        "\n",
        "За бажанням можна перевірити правильність роботи програми за допомогою функції np.linalg.det(a)."
      ]
    },
    {
      "cell_type": "code",
      "execution_count": 9,
      "metadata": {
        "id": "ifNX2M7LXm7f"
      },
      "outputs": [
        {
          "name": "stdout",
          "output_type": "stream",
          "text": [
            "Згенерована матриця: \n",
            "[[7 9 7]\n",
            " [7 9 8]\n",
            " [8 6 8]]\n",
            "Визначник матриці: 30\n"
          ]
        }
      ],
      "source": [
        "import numpy as np\n",
        "import itertools\n",
        "\n",
        "def random_matrix(dim):\n",
        "    \"\"\"\n",
        "    The function generates dim x dim array of integers\n",
        "    between 0 and 10.\n",
        "    \"\"\"\n",
        "    matrix = np.random.randint(10, size = (dim, dim))\n",
        "    return matrix\n",
        "\n",
        "#Example of using permutations() method\n",
        "t = list(itertools.permutations('123', 3))\n",
        "\n",
        "while True:\n",
        "    try:\n",
        "        dim = input('Введіть розмірність матриці: ')\n",
        "        dim = int(dim)\n",
        "        if dim > 0:\n",
        "            matrix = random_matrix(dim)\n",
        "            print('Згенерована матриця: ')\n",
        "            print(f'{matrix}')\n",
        "            break\n",
        "        else:\n",
        "            print('Розмірність має бути додатнім числом')\n",
        "            continue\n",
        "    except ValueError:\n",
        "        print('Розмірність матриці має бути цілим числом')\n",
        "        continue \n",
        "    \n",
        "def create_permutations(dim):\n",
        "    '''\n",
        "    Генерація списку перестановок\n",
        "    '''\n",
        "    dim = list(itertools.permutations(range(dim)))\n",
        "    return dim\n",
        "\n",
        "def product(matrix, permutation):\n",
        "    '''\n",
        "    Обчислення добутку та знаходження знака\n",
        "    '''\n",
        "    multiple = 1\n",
        "    for m, n in enumerate(permutation):\n",
        "        multiple = multiple * matrix[m][n]\n",
        "    sign = 1\n",
        "    for i in range(len(permutation)):\n",
        "        for j in range(i + 1, len(permutation)):\n",
        "            if permutation[i] > permutation[j]:\n",
        "                sign *= -1\n",
        "    return sign * multiple\n",
        "\n",
        "def elements_sum(matrix):\n",
        "    '''\n",
        "    Обчислення визначника матриці (сума добутків перестановок)\n",
        "    '''\n",
        "    dim = len(matrix)\n",
        "    permutations = create_permutations(dim)\n",
        "    elem_sum = sum(product(matrix, permutation) for permutation in permutations)\n",
        "    return elem_sum\n",
        "\n",
        "print(f'Визначник матриці: {elements_sum(matrix)}')\n",
        "\n",
        "\n",
        "\n",
        "\n"
      ]
    }
  ],
  "metadata": {
    "colab": {
      "collapsed_sections": [],
      "name": "Practice_7_KM-01_.ipynb",
      "provenance": []
    },
    "kernelspec": {
      "display_name": "Python 3",
      "language": "python",
      "name": "python3"
    },
    "language_info": {
      "codemirror_mode": {
        "name": "ipython",
        "version": 3
      },
      "file_extension": ".py",
      "mimetype": "text/x-python",
      "name": "python",
      "nbconvert_exporter": "python",
      "pygments_lexer": "ipython3",
      "version": "3.12.6"
    }
  },
  "nbformat": 4,
  "nbformat_minor": 0
}
