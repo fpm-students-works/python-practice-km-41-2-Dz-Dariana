{
  "cells": [
    {
      "cell_type": "markdown",
      "metadata": {
        "id": "FMqboNwO4rVs"
      },
      "source": [
        "# **Курс \"Програмування на мові Python\"**"
      ]
    },
    {
      "cell_type": "markdown",
      "metadata": {
        "id": "A2T6MigL5Z06"
      },
      "source": [
        "## **Практичне зайняття №13**\n",
        "\n",
        "### Тема: \"Робота з файлами\""
      ]
    },
    {
      "cell_type": "markdown",
      "metadata": {
        "id": "cfCdgK2zXm7e"
      },
      "source": [
        "### **Завдання 1 (1,5 бали)**\n",
        "\n",
        "У 1939 році друком вийшов роман американського письменика Ернеста Вінсента Райта \"Ґетсбі\". Особливу увагу публіки він здобув через те, що письменник жодного разу не використав у романі літеру \"e\" (роман складається з більше ніж 50,000 слів), яка є найбільш вживаною літерою в англійській мові.\n",
        "\n",
        "Порахуйте кількість входжень кожної літери у текст роману. Виведіть список літер англійського алфавіту, а також інформацію про те, скільки відсотків від усіх літер тексту складає кожна літера алфавіту.\n",
        "\n",
        "Зауваження:\n",
        "\n",
        "1. Програма має ігнорувати будь-які символи, окрім літер.\n",
        "\n",
        "2. Переведіть усі літери у верхній або у нижній регістр.\n",
        "\n",
        "3. Під час виведення відсортуйте літери у порядку зменшення їхнього відсотка. Літера \"e\" має стояти на останньому місці у цьому списку (хоча кілька літер e там все ж таки зустрічається).\n",
        "\n",
        "4. Виведіть перші 5 та останні 5 літер відсортованого списку разом з відсотковими значеннями, що їм відповідають. Відсотки округліть до тисячних."
      ]
    },
    {
      "cell_type": "code",
      "execution_count": null,
      "metadata": {
        "id": "u4-fHJJ6U462",
        "tags": [
          "outputPrepend"
        ]
      },
      "outputs": [
        {
          "name": "stdout",
          "output_type": "stream",
          "text": [
            "Перші 5 літер:\n",
            "A: 10.952%\n",
            "O: 10.419%\n",
            "I: 8.825%\n",
            "N: 8.597%\n",
            "T: 8.494%\n",
            "Останні 5 літер:\n",
            "J: 0.23%\n",
            "Z: 0.107%\n",
            "X: 0.079%\n",
            "Q: 0.051%\n",
            "E: 0.002%\n"
          ]
        }
      ],
      "source": [
        "from collections import Counter\n",
        "with open('gadsby.txt', 'r', encoding='utf8') as file:\n",
        "    read = file.read()\n",
        "read = read.upper()\n",
        "letters_only = ''.join(char for char in read if char.isalpha())\n",
        "letters_counter = Counter(letters_only)\n",
        "total_letters = sum(letters_counter.values())\n",
        "percent = {letter: (count / total_letters) * 100 for letter, count in letters_counter.items()}\n",
        "sorted_letters = sorted(percent.items(), key=lambda item: (-item[1], item[0]))\n",
        "sorted_letters = [(letter, round(percent, 3)) for letter, percent in sorted_letters]\n",
        "\n",
        "print(\"Перші 5 літер:\")\n",
        "for letter, percent in sorted_letters[:5]:\n",
        "    print(f\"{letter}: {percent}%\")\n",
        "\n",
        "print(\"Останні 5 літер:\")\n",
        "for letter, percent in sorted_letters[-5:]:\n",
        "    print(f\"{letter}: {percent}%\")\n",
        "file.close()"
      ]
    },
    {
      "cell_type": "markdown",
      "metadata": {
        "id": "A34oz70eU463"
      },
      "source": [
        "### **Завдання 2 (1,5 бали)**\n",
        "\n",
        "Архів archive.zip містить 140 txt-файлів, в яких збережено інфорамцію про те, якими іменами називали дітей у США в період з 1880 по 2019 рік.\n",
        "\n",
        "Структура рядка кожного файлу така:\n",
        "\n",
        "*name,sex,number_of_occurrences*\n",
        "\n",
        "Напишіть програму, яка зчитуватиме кожен файл та визначатиме окремо чоловічі, окремо жіночі імена, що були найпопулярнішими хоча б в один з років. Далі програма повинна підраховувати, скільки разів кожне з цих імен ставало найпопулярнишим, та виводити ранжовані списки чоловічіх та жіночих імен у вигляді:\n",
        "\n",
        "```\n",
        "Michael 44\n",
        "John 44\n",
        "Robert 17\n",
        "...\n",
        "\n",
        "Mary 76\n",
        "Jennifer 15\n",
        "Emily 12\n",
        "...\n",
        "```"
      ]
    },
    {
      "cell_type": "code",
      "execution_count": 15,
      "metadata": {},
      "outputs": [
        {
          "name": "stdout",
          "output_type": "stream",
          "text": [
            "Найпопулярніші чоловічі імена:\n",
            "John 44\n",
            "Michael 44\n",
            "Robert 17\n",
            "Jacob 14\n",
            "James 13\n",
            "Noah 4\n",
            "Liam 3\n",
            "David 1\n",
            "Найпопулярніші жіночі імена:\n",
            "Mary 76\n",
            "Jennifer 15\n",
            "Emily 12\n",
            "Jessica 9\n",
            "Lisa 8\n",
            "Emma 6\n",
            "Linda 6\n",
            "Sophia 3\n",
            "Ashley 2\n",
            "Isabella 2\n",
            "Olivia 1\n"
          ]
        }
      ],
      "source": [
        "import os\n",
        "\n",
        "def read(f, male_popular, female_popular):\n",
        "    male = {}\n",
        "    female = {}\n",
        "    for line in f:\n",
        "        name, sex, number_of_occurrences = line.strip().split(\",\")\n",
        "        number_of_occurrences = int(number_of_occurrences)\n",
        "        if sex == 'F':\n",
        "            female[name] = max(female.get(name, 0), number_of_occurrences)\n",
        "        elif sex == 'M':\n",
        "            male[name] = max(male.get(name, 0), number_of_occurrences)\n",
        "    if male:\n",
        "        most_popular_male = max(male, key=male.get)\n",
        "        male_popular[most_popular_male] = male_popular.get(most_popular_male, 0) + 1 \n",
        "    if female:\n",
        "        most_popular_female = max(female, key=female.get)\n",
        "        female_popular[most_popular_female] = female_popular.get(most_popular_female, 0) + 1  \n",
        "\n",
        "male_popular = {}\n",
        "female_popular = {}\n",
        "file = 'archive'  \n",
        "file_list = [os.path.join(file, file_name) for file_name in os.listdir(file) if file_name.endswith('.txt')]\n",
        "\n",
        "for file_path in file_list:\n",
        "    with open(file_path, 'r') as f:\n",
        "        read(f, male_popular, female_popular)\n",
        "\n",
        "male_sorted = sorted(male_popular.items(), key=lambda x: (-x[1], x[0]))\n",
        "female_sorted = sorted(female_popular.items(), key=lambda x: (-x[1], x[0]))\n",
        "\n",
        "print('Найпопулярніші чоловічі імена:')\n",
        "for name, count in male_sorted:\n",
        "    print(f'{name} {count}')\n",
        "\n",
        "print('Найпопулярніші жіночі імена:')\n",
        "for name, count in female_sorted:\n",
        "    print(f'{name} {count}')"
      ]
    }
  ],
  "metadata": {
    "colab": {
      "collapsed_sections": [],
      "name": "Practice_14_KM_01.ipynb",
      "provenance": []
    },
    "kernelspec": {
      "display_name": "Python 3",
      "name": "python3"
    },
    "language_info": {
      "codemirror_mode": {
        "name": "ipython",
        "version": 3
      },
      "file_extension": ".py",
      "mimetype": "text/x-python",
      "name": "python",
      "nbconvert_exporter": "python",
      "pygments_lexer": "ipython3",
      "version": "3.12.6"
    }
  },
  "nbformat": 4,
  "nbformat_minor": 0
}
